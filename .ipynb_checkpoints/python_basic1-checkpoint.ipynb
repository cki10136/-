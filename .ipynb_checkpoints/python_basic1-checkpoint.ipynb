{
 "cells": [
  {
   "cell_type": "markdown",
   "id": "22915d48-f5fb-44cd-bd7b-eb72072667d3",
   "metadata": {},
   "source": [
    "### 변수"
   ]
  },
  {
   "cell_type": "code",
   "execution_count": 13,
   "id": "49db3b74-2342-4fa6-95a6-27ff50d1ea12",
   "metadata": {},
   "outputs": [
    {
     "name": "stdin",
     "output_type": "stream",
     "text": [
      "점수입력 11\n"
     ]
    },
    {
     "name": "stdout",
     "output_type": "stream",
     "text": [
      "11 를 입력함\n",
      "c bad\n",
      "1\n",
      "2\n",
      "3\n",
      "4\n",
      "5\n",
      "6\n",
      "7\n",
      "8\n",
      "9\n",
      "10\n",
      "11\n"
     ]
    }
   ],
   "source": [
    "# aa = int(input('점수입력'))\n",
    "# print(aa, '를 입력함')\n",
    "\n",
    "# if aa > 0 and aa <= 5:\n",
    "#     aaa = 'a'\n",
    "# elif aa > 5 and aa <= 10:\n",
    "#     aaa = 'b'\n",
    "# else:\n",
    "#     aaa = 'c'\n",
    "# print(aaa, 'good' if aaa == 'a' or aaa == 'b' else 'bad')\n",
    "\n",
    "# bb = 1\n",
    "# while bb <= aa:\n",
    "#     print(bb)\n",
    "#     bb+=1"
   ]
  },
  {
   "cell_type": "markdown",
   "id": "d5976c8a-0404-46b5-90ba-3c32e4410082",
   "metadata": {},
   "source": [
    "### 리스트<br>\n",
    "여러 개의 데이터를 저장하는 공간"
   ]
  },
  {
   "cell_type": "code",
   "execution_count": 52,
   "id": "96aec9f2-3ad5-4b98-a920-8ae60ec27019",
   "metadata": {},
   "outputs": [
    {
     "name": "stdout",
     "output_type": "stream",
     "text": [
      "['aa', 11, 'bb', 2]\n",
      "2\n"
     ]
    }
   ],
   "source": [
    "l1 = ['aa', 1, 'bb', 2]\n",
    "#추가 - 맨뒤\n",
    "l1.append('cc')\n",
    "#삭제 - 맨뒤 1개, 아니면 인덱스 입력\n",
    "l1.pop()\n",
    "#변경\n",
    "l1[1] = 11\n",
    "\n",
    "#추가 중간\n",
    "l1.insert(2, 'zz')\n",
    "\n",
    "#특정값 제거(1개만)\n",
    "l1.remove('zz')\n",
    "\n",
    "#비우기\n",
    "l1.clear()\n",
    "\n",
    "print(l1)\n",
    "print(l1.index('bb'))"
   ]
  },
  {
   "cell_type": "code",
   "execution_count": null,
   "id": "abfedcdf-6d37-4956-aab6-eb47851488f9",
   "metadata": {},
   "outputs": [],
   "source": []
  }
 ],
 "metadata": {
  "kernelspec": {
   "display_name": "Python 3 (ipykernel)",
   "language": "python",
   "name": "python3"
  },
  "language_info": {
   "codemirror_mode": {
    "name": "ipython",
    "version": 3
   },
   "file_extension": ".py",
   "mimetype": "text/x-python",
   "name": "python",
   "nbconvert_exporter": "python",
   "pygments_lexer": "ipython3",
   "version": "3.12.7"
  }
 },
 "nbformat": 4,
 "nbformat_minor": 5
}
