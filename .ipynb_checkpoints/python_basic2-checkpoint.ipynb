{
 "cells": [
  {
   "cell_type": "code",
   "execution_count": 109,
   "id": "72efc74e-54c8-46ae-a129-8737afabb581",
   "metadata": {},
   "outputs": [
    {
     "name": "stdout",
     "output_type": "stream",
     "text": [
      "있다!\n",
      "[0, 2, 4, 6, 8, 10]\n",
      "[0, 4, 8]\n"
     ]
    }
   ],
   "source": [
    "# range\n",
    "# for i in range(1, 10+1):\n",
    "#    print(i)\n",
    "\n",
    "word = ['aaa', 'bbb', 'ccc']\n",
    "\n",
    "if 'aaa' in word:\n",
    "    print('있다!')\n",
    "\n",
    "number=[]\n",
    "for i in range(0, 10+1, 2):\n",
    "    number.append(i)\n",
    "print(number)\n",
    "\n",
    "#슬라이싱 간격\n",
    "print(number[::2])\n"
   ]
  },
  {
   "cell_type": "markdown",
   "id": "63d00943-216a-400a-a8dc-ba49f9787871",
   "metadata": {},
   "source": [
    "### 딕셔너리"
   ]
  },
  {
   "cell_type": "code",
   "execution_count": 81,
   "id": "d16b5847-001f-492b-a87d-c8679014a323",
   "metadata": {},
   "outputs": [
    {
     "name": "stdout",
     "output_type": "stream",
     "text": [
      "['xxx', 'ccc', 'ddd']\n",
      "0 xxx\n",
      "1 ccc\n",
      "2 ddd\n"
     ]
    }
   ],
   "source": [
    "dic1 = {\n",
    "    1:'aaa',\n",
    "    2:'bbb',\n",
    "    3:'ccc'\n",
    "}\n",
    "\n",
    "# 키, 밸류 확인\n",
    "# print(dic1.keys())\n",
    "# print(dic1.values())\n",
    "\n",
    "# 값 추가\n",
    "dic1[4] = 'ddd'\n",
    "\n",
    "# 값 변경\n",
    "dic1[1] = 'xxx'\n",
    "\n",
    "#값 삭제\n",
    "del(dic1[2])\n",
    "\n",
    "dic_val = list(dic1.values())\n",
    "\n",
    "print(dic_val)\n",
    "\n",
    "for i,val in enumerate(dic_val):\n",
    "    print(i, val)\n"
   ]
  },
  {
   "cell_type": "code",
   "execution_count": 101,
   "id": "9641b615-ba29-493f-9c58-0ea720122a99",
   "metadata": {},
   "outputs": [
    {
     "name": "stdout",
     "output_type": "stream",
     "text": [
      "중식\n"
     ]
    }
   ],
   "source": [
    "# 딕셔너리\n",
    "\n",
    "cook = ['분식', '한식', '중식']\n",
    "number = [4,5,2]\n",
    "\n",
    "store={\n",
    "    \"요리\" : cook,\n",
    "    \"점포수\" : number\n",
    "}\n",
    "\n",
    "# print(store)\n",
    "print(store[\"요리\"][store[\"요리\"].index('중식')])"
   ]
  },
  {
   "cell_type": "markdown",
   "id": "5c7cddc2-de42-4f0e-8012-21b0a5b2234c",
   "metadata": {},
   "source": [
    "### 튜플 - 수정/삭제 불가"
   ]
  },
  {
   "cell_type": "code",
   "execution_count": 117,
   "id": "0a78ea62-41de-4c56-bed9-816e2ee59dfd",
   "metadata": {},
   "outputs": [
    {
     "name": "stdout",
     "output_type": "stream",
     "text": [
      "<class 'tuple'>\n",
      "<class 'int'> <class 'tuple'>\n"
     ]
    }
   ],
   "source": [
    "tup = (1,2,3)\n",
    "\n",
    "print(type(tup))\n",
    "\n",
    "# 값이 1개인 튜플은 콤마를 넣어줘야 튜플이 됨\n",
    "b, c  = (3), (3,)\n",
    "\n",
    "print(type(b), type(c))"
   ]
  },
  {
   "cell_type": "code",
   "execution_count": 127,
   "id": "d0aef44e-cc9a-4e23-8476-210094e5ddca",
   "metadata": {},
   "outputs": [
    {
     "name": "stdout",
     "output_type": "stream",
     "text": [
      "8\n",
      "['감사', '사랑']\n",
      "['감사', '행복', '사랑', '성공', '긍정', '변화', '성장', '희망']\n"
     ]
    }
   ],
   "source": [
    "l1 = ['감사','행복','사랑','성공','긍정','변화','성장','희망']\n",
    "\n",
    "print(len(l1))\n",
    "print(l1[0:3+1:2])\n",
    "\n",
    "print(l1)"
   ]
  },
  {
   "cell_type": "code",
   "execution_count": 143,
   "id": "326514fc-ad68-4db0-bc52-48663def2b93",
   "metadata": {},
   "outputs": [
    {
     "name": "stdout",
     "output_type": "stream",
     "text": [
      "aaa : agea\n",
      "칼럼age\n"
     ]
    }
   ],
   "source": [
    "col = 'age'\n",
    "\n",
    "print(\"aaa : {}{}\".format(col, 'a'))\n",
    "print(f\"칼럼{col}\")"
   ]
  },
  {
   "cell_type": "code",
   "execution_count": 145,
   "id": "18f8d487-61e0-4507-ae67-816e65994ed9",
   "metadata": {},
   "outputs": [],
   "source": [
    "# 포맷팅 예제\n",
    "product = \"컴퓨터\"\n",
    "price = 1099.99\n",
    "quantity = 3\n",
    "\n",
    "info = \"상품: {0}, 가격: {1:.2f}, 수량: {2}\".format(product, price, quantity)"
   ]
  }
 ],
 "metadata": {
  "kernelspec": {
   "display_name": "Python 3 (ipykernel)",
   "language": "python",
   "name": "python3"
  },
  "language_info": {
   "codemirror_mode": {
    "name": "ipython",
    "version": 3
   },
   "file_extension": ".py",
   "mimetype": "text/x-python",
   "name": "python",
   "nbconvert_exporter": "python",
   "pygments_lexer": "ipython3",
   "version": "3.12.7"
  }
 },
 "nbformat": 4,
 "nbformat_minor": 5
}
