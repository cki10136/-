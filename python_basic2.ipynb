{
 "cells": [
  {
   "cell_type": "code",
   "execution_count": 1,
   "id": "72efc74e-54c8-46ae-a129-8737afabb581",
   "metadata": {},
   "outputs": [
    {
     "name": "stdout",
     "output_type": "stream",
     "text": [
      "있다!\n",
      "[0, 2, 4, 6, 8, 10]\n",
      "[0, 4, 8]\n"
     ]
    }
   ],
   "source": [
    "# range\n",
    "# for i in range(1, 10+1):\n",
    "#    print(i)\n",
    "\n",
    "word = ['aaa', 'bbb', 'ccc']\n",
    "\n",
    "if 'aaa' in word:\n",
    "    print('있다!')\n",
    "\n",
    "number=[]\n",
    "for i in range(0, 10+1, 2):\n",
    "    number.append(i)\n",
    "print(number)\n",
    "\n",
    "#슬라이싱 간격\n",
    "print(number[::2])\n"
   ]
  },
  {
   "cell_type": "markdown",
   "id": "63d00943-216a-400a-a8dc-ba49f9787871",
   "metadata": {},
   "source": [
    "### 딕셔너리"
   ]
  },
  {
   "cell_type": "code",
   "execution_count": 3,
   "id": "d16b5847-001f-492b-a87d-c8679014a323",
   "metadata": {},
   "outputs": [
    {
     "name": "stdout",
     "output_type": "stream",
     "text": [
      "['xxx', 'ccc', 'ddd']\n",
      "0 xxx\n",
      "1 ccc\n",
      "2 ddd\n"
     ]
    }
   ],
   "source": [
    "dic1 = {\n",
    "    1:'aaa',\n",
    "    2:'bbb',\n",
    "    3:'ccc'\n",
    "}\n",
    "\n",
    "# 키, 밸류 확인\n",
    "# print(dic1.keys())\n",
    "# print(dic1.values())\n",
    "\n",
    "# 값 추가\n",
    "dic1[4] = 'ddd'\n",
    "\n",
    "# 값 변경\n",
    "dic1[1] = 'xxx'\n",
    "\n",
    "#값 삭제\n",
    "del(dic1[2])\n",
    "\n",
    "dic_val = list(dic1.values())\n",
    "\n",
    "print(dic_val)\n",
    "\n",
    "for i,val in enumerate(dic_val):\n",
    "    print(i, val)\n"
   ]
  },
  {
   "cell_type": "code",
   "execution_count": 4,
   "id": "9641b615-ba29-493f-9c58-0ea720122a99",
   "metadata": {},
   "outputs": [
    {
     "name": "stdout",
     "output_type": "stream",
     "text": [
      "중식\n"
     ]
    }
   ],
   "source": [
    "# 딕셔너리\n",
    "\n",
    "cook = ['분식', '한식', '중식']\n",
    "number = [4,5,2]\n",
    "\n",
    "store={\n",
    "    \"요리\" : cook,\n",
    "    \"점포수\" : number\n",
    "}\n",
    "\n",
    "# print(store)\n",
    "print(store[\"요리\"][store[\"요리\"].index('중식')])"
   ]
  },
  {
   "cell_type": "markdown",
   "id": "5c7cddc2-de42-4f0e-8012-21b0a5b2234c",
   "metadata": {},
   "source": [
    "### 튜플 - 수정/삭제 불가"
   ]
  },
  {
   "cell_type": "code",
   "execution_count": 6,
   "id": "0a78ea62-41de-4c56-bed9-816e2ee59dfd",
   "metadata": {},
   "outputs": [
    {
     "name": "stdout",
     "output_type": "stream",
     "text": [
      "<class 'tuple'>\n",
      "<class 'int'> <class 'tuple'>\n"
     ]
    }
   ],
   "source": [
    "tup = (1,2,3)\n",
    "\n",
    "print(type(tup))\n",
    "\n",
    "# 값이 1개인 튜플은 콤마를 넣어줘야 튜플이 됨\n",
    "b, c  = (3), (3,)\n",
    "\n",
    "print(type(b), type(c))"
   ]
  },
  {
   "cell_type": "code",
   "execution_count": 7,
   "id": "d0aef44e-cc9a-4e23-8476-210094e5ddca",
   "metadata": {},
   "outputs": [
    {
     "name": "stdout",
     "output_type": "stream",
     "text": [
      "8\n",
      "['감사', '사랑']\n",
      "['감사', '행복', '사랑', '성공', '긍정', '변화', '성장', '희망']\n"
     ]
    }
   ],
   "source": [
    "l1 = ['감사','행복','사랑','성공','긍정','변화','성장','희망']\n",
    "\n",
    "print(len(l1))\n",
    "print(l1[0:3+1:2])\n",
    "\n",
    "print(l1)"
   ]
  },
  {
   "cell_type": "code",
   "execution_count": 8,
   "id": "326514fc-ad68-4db0-bc52-48663def2b93",
   "metadata": {},
   "outputs": [
    {
     "name": "stdout",
     "output_type": "stream",
     "text": [
      "aaa : agea\n",
      "칼럼age\n"
     ]
    }
   ],
   "source": [
    "col = 'age'\n",
    "\n",
    "print(\"aaa : {}{}\".format(col, 'a'))\n",
    "print(f\"칼럼{col}\")"
   ]
  },
  {
   "cell_type": "code",
   "execution_count": 30,
   "id": "18f8d487-61e0-4507-ae67-816e65994ed9",
   "metadata": {},
   "outputs": [
    {
     "name": "stdout",
     "output_type": "stream",
     "text": [
      "상품: 컴퓨터, 가격: 1099.99, 수량: 3, aaa: 컴퓨터\n"
     ]
    }
   ],
   "source": [
    "# 포맷팅 예제\n",
    "product = \"컴퓨터\"\n",
    "price = 1099.99\n",
    "quantity = 3\n",
    "\n",
    "info = \"상품: {0}, 가격: {1:.2f}, 수량: {2}, aaa: {0}\".format(product, price, quantity)\n",
    "print(info)"
   ]
  },
  {
   "cell_type": "markdown",
   "id": "b03e1ae2-f965-4204-b804-a4a5fe020e25",
   "metadata": {},
   "source": [
    "### 사용자 정의 함수"
   ]
  },
  {
   "cell_type": "code",
   "execution_count": 51,
   "id": "b6da040b-976f-4df4-998c-98bf8e55dd28",
   "metadata": {},
   "outputs": [
    {
     "name": "stdout",
     "output_type": "stream",
     "text": [
      "안녕 cki\n",
      "100\n"
     ]
    }
   ],
   "source": [
    "def hello():\n",
    "    print('안녕')\n",
    "\n",
    "def hello2(name):\n",
    "    print(f\"안녕 {name}\")\n",
    "\n",
    "hello2('cki')\n",
    "\n",
    "def square(x):\n",
    "    return x*x\n",
    "\n",
    "print(square(10))"
   ]
  },
  {
   "cell_type": "code",
   "execution_count": 87,
   "id": "dd863b52-ba8a-4396-aade-2028705e7310",
   "metadata": {},
   "outputs": [
    {
     "name": "stdout",
     "output_type": "stream",
     "text": [
      "최소 15, 평균44.0\n"
     ]
    }
   ],
   "source": [
    "l2 = [15,46,78,24,56]\n",
    "\n",
    "def min_max(data):\n",
    "    mi, ma = min(data), max(data)\n",
    "    return [mi, ma]\n",
    "\n",
    "print(f'최소 {min(l2)}, 평균{round(sum(l2)/len(l2), 0)}')\n"
   ]
  },
  {
   "cell_type": "code",
   "execution_count": 101,
   "id": "35cf8cd3-27ad-452c-9f3b-9c63a744ad10",
   "metadata": {},
   "outputs": [
    {
     "name": "stdout",
     "output_type": "stream",
     "text": [
      "xbcdefz\n",
      "2024년 11월 14일\n",
      "['orange', 'apple', 'banana']\n"
     ]
    }
   ],
   "source": [
    "str_1 = 'abcdefz'\n",
    "\n",
    "print(str_1.replace('a', 'x'))\n",
    "\n",
    "date = '2024-11-14'\n",
    "date = date.split('-')\n",
    "\n",
    "print(f\"{date[0]}년 {date[1]}월 {date[2]}일\")\n",
    "\n",
    "fruits = \"orange apple banana\"\n",
    "fruits = fruits.split(' ')\n",
    "\n",
    "print(fruits)"
   ]
  },
  {
   "cell_type": "markdown",
   "id": "16b95051-8d19-44ab-8f15-5b8305b445aa",
   "metadata": {},
   "source": [
    "### 모듈(패키지)"
   ]
  },
  {
   "cell_type": "code",
   "execution_count": 152,
   "id": "382b651b-3503-41d5-a151-c1d40c20b5b8",
   "metadata": {},
   "outputs": [
    {
     "name": "stdout",
     "output_type": "stream",
     "text": [
      "2024-11-13 15:27:52.259971 <class 'datetime.datetime'>\n",
      "2024-11-13 15:27:52.259971 <class 'datetime.datetime'>\n",
      "15\n",
      "27\n",
      "52\n",
      "2024-11-13 <class 'datetime.date'>\n",
      "2024\n",
      "11\n",
      "13\n",
      "2024-10-11 <class 'datetime.date'>\n",
      "33 days, 0:00:00 <class 'datetime.timedelta'> 33 <class 'int'>\n",
      "Help on timedelta object:\n",
      "\n",
      "class timedelta(builtins.object)\n",
      " |  Difference between two datetime values.\n",
      " |\n",
      " |  timedelta(days=0, seconds=0, microseconds=0, milliseconds=0, minutes=0, hours=0, weeks=0)\n",
      " |\n",
      " |  All arguments are optional and default to 0.\n",
      " |  Arguments may be integers or floats, and may be positive or negative.\n",
      " |\n",
      " |  Methods defined here:\n",
      " |\n",
      " |  __abs__(self, /)\n",
      " |      abs(self)\n",
      " |\n",
      " |  __add__(self, value, /)\n",
      " |      Return self+value.\n",
      " |\n",
      " |  __bool__(self, /)\n",
      " |      True if self else False\n",
      " |\n",
      " |  __divmod__(self, value, /)\n",
      " |      Return divmod(self, value).\n",
      " |\n",
      " |  __eq__(self, value, /)\n",
      " |      Return self==value.\n",
      " |\n",
      " |  __floordiv__(self, value, /)\n",
      " |      Return self//value.\n",
      " |\n",
      " |  __ge__(self, value, /)\n",
      " |      Return self>=value.\n",
      " |\n",
      " |  __getattribute__(self, name, /)\n",
      " |      Return getattr(self, name).\n",
      " |\n",
      " |  __gt__(self, value, /)\n",
      " |      Return self>value.\n",
      " |\n",
      " |  __hash__(self, /)\n",
      " |      Return hash(self).\n",
      " |\n",
      " |  __le__(self, value, /)\n",
      " |      Return self<=value.\n",
      " |\n",
      " |  __lt__(self, value, /)\n",
      " |      Return self<value.\n",
      " |\n",
      " |  __mod__(self, value, /)\n",
      " |      Return self%value.\n",
      " |\n",
      " |  __mul__(self, value, /)\n",
      " |      Return self*value.\n",
      " |\n",
      " |  __ne__(self, value, /)\n",
      " |      Return self!=value.\n",
      " |\n",
      " |  __neg__(self, /)\n",
      " |      -self\n",
      " |\n",
      " |  __pos__(self, /)\n",
      " |      +self\n",
      " |\n",
      " |  __radd__(self, value, /)\n",
      " |      Return value+self.\n",
      " |\n",
      " |  __rdivmod__(self, value, /)\n",
      " |      Return divmod(value, self).\n",
      " |\n",
      " |  __reduce__(...)\n",
      " |      __reduce__() -> (cls, state)\n",
      " |\n",
      " |  __repr__(self, /)\n",
      " |      Return repr(self).\n",
      " |\n",
      " |  __rfloordiv__(self, value, /)\n",
      " |      Return value//self.\n",
      " |\n",
      " |  __rmod__(self, value, /)\n",
      " |      Return value%self.\n",
      " |\n",
      " |  __rmul__(self, value, /)\n",
      " |      Return value*self.\n",
      " |\n",
      " |  __rsub__(self, value, /)\n",
      " |      Return value-self.\n",
      " |\n",
      " |  __rtruediv__(self, value, /)\n",
      " |      Return value/self.\n",
      " |\n",
      " |  __str__(self, /)\n",
      " |      Return str(self).\n",
      " |\n",
      " |  __sub__(self, value, /)\n",
      " |      Return self-value.\n",
      " |\n",
      " |  __truediv__(self, value, /)\n",
      " |      Return self/value.\n",
      " |\n",
      " |  total_seconds(...)\n",
      " |      Total seconds in the duration.\n",
      " |\n",
      " |  ----------------------------------------------------------------------\n",
      " |  Static methods defined here:\n",
      " |\n",
      " |  __new__(*args, **kwargs)\n",
      " |      Create and return a new object.  See help(type) for accurate signature.\n",
      " |\n",
      " |  ----------------------------------------------------------------------\n",
      " |  Data descriptors defined here:\n",
      " |\n",
      " |  days\n",
      " |      Number of days.\n",
      " |\n",
      " |  microseconds\n",
      " |      Number of microseconds (>= 0 and less than 1 second).\n",
      " |\n",
      " |  seconds\n",
      " |      Number of seconds (>= 0 and less than 1 day).\n",
      " |\n",
      " |  ----------------------------------------------------------------------\n",
      " |  Data and other attributes defined here:\n",
      " |\n",
      " |  max = datetime.timedelta(days=999999999, seconds=86399, microseconds=9...\n",
      " |\n",
      " |  min = datetime.timedelta(days=-999999999)\n",
      " |\n",
      " |  resolution = datetime.timedelta(microseconds=1)\n",
      "\n"
     ]
    }
   ],
   "source": [
    "# 날짜/시간 - datetime / 수학 - math / 게임 - random\n",
    "import datetime as dttm\n",
    "\n",
    "print(dttm.datetime.now(),  type(dttm.datetime.now()))\n",
    "print(dttm.datetime.today(), type(dttm.datetime.today()))\n",
    "print(dttm.datetime.now().hour)\n",
    "print(dttm.datetime.now().minute)\n",
    "print(dttm.datetime.now().second)\n",
    "print(dttm.date.today(), type(dttm.date.today()))\n",
    "print(dttm.date.today().year)\n",
    "print(dttm.date.today().month)\n",
    "print(dttm.date.today().day)\n",
    "\n",
    "today   = dttm.date.today()\n",
    "the_day = dttm.date(2024, 10, 11)\n",
    "print(the_day , type(the_day))\n",
    "\n",
    "gap = today - the_day\n",
    "print(gap, type(gap), gap.days, type(gap.days))\n",
    "\n",
    "help(gap)"
   ]
  },
  {
   "cell_type": "code",
   "execution_count": 160,
   "id": "e23416c1-5ca3-46f0-9f56-43cdf0f00219",
   "metadata": {},
   "outputs": [
    {
     "name": "stdout",
     "output_type": "stream",
     "text": [
      "3.141592653589793\n",
      "3 4\n",
      "78.53981633974483\n"
     ]
    }
   ],
   "source": [
    "import math\n",
    "\n",
    "#버림, 올림\n",
    "print(math.pi)\n",
    "\n",
    "print(math.floor(math.pi), math.ceil(math.pi))\n",
    "\n",
    "#원의 넓이( pi * r*r)\n",
    "radius = 5\n",
    "area = math.pi *(radius**2)\n",
    "print(area)\n"
   ]
  },
  {
   "cell_type": "markdown",
   "id": "7df6fdb5-596e-4923-b16f-6c743fd60758",
   "metadata": {},
   "source": [
    "### 클래스"
   ]
  },
  {
   "cell_type": "code",
   "execution_count": 203,
   "id": "61ad5cf6-433a-4873-ae59-9d0f2a6949dd",
   "metadata": {},
   "outputs": [
    {
     "name": "stdout",
     "output_type": "stream",
     "text": [
      "0 >> name===aaa, age====38\n",
      "1 >> name===bbb, age====38\n"
     ]
    }
   ],
   "source": [
    "# 학생 클래스\n",
    "\n",
    "class Student:\n",
    "    def __init__(self, name, age):\n",
    "        self.name = name\n",
    "        self.age  = age\n",
    "    def print(self):\n",
    "        print(f\"name==={self.name}, age===={self.age}\")\n",
    "\n",
    "s_list=[]\n",
    "\n",
    "s_list.append(Student('aaa', 38))\n",
    "s_list.append(Student('bbb', 38))\n",
    "\n",
    "for i,s in enumerate(s_list):\n",
    "    print(i, end=\" >> \")\n",
    "    s.print()"
   ]
  }
 ],
 "metadata": {
  "kernelspec": {
   "display_name": "Python 3 (ipykernel)",
   "language": "python",
   "name": "python3"
  },
  "language_info": {
   "codemirror_mode": {
    "name": "ipython",
    "version": 3
   },
   "file_extension": ".py",
   "mimetype": "text/x-python",
   "name": "python",
   "nbconvert_exporter": "python",
   "pygments_lexer": "ipython3",
   "version": "3.12.7"
  }
 },
 "nbformat": 4,
 "nbformat_minor": 5
}
