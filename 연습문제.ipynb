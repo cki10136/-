{
 "cells": [
  {
   "cell_type": "code",
   "execution_count": 93,
   "id": "cf8b2c9e-0744-476d-8771-31be2d53f245",
   "metadata": {},
   "outputs": [
    {
     "name": "stdout",
     "output_type": "stream",
     "text": [
      "        id    age city    f1  f2    f3    f4         f5  subscribed    views\n",
      "0     id01    2.0   서울   NaN   0  gold  ENFJ  91.297791  2024-07-16   6820.0\n",
      "1     id02    9.0   서울  70.0   1   NaN  ENFJ  60.339826  2024-05-12   2534.0\n",
      "2     id03   27.0   서울  61.0   1  gold  ISTJ  17.252986  2024-03-16   7312.0\n",
      "3     id04   75.0   서울   NaN   2   NaN  INFP  52.667078  2024-07-21    493.0\n",
      "4     id05   24.0   서울  85.0   2   NaN  ISFJ  29.269869  2024-03-07   1338.0\n",
      "..     ...    ...  ...   ...  ..   ...   ...        ...         ...      ...\n",
      "97    id97  100.0   경기   NaN   0  gold  INFP  67.886373  2024-03-18   6687.0\n",
      "98    id98   39.0   경기  58.0   2   NaN  INFP  98.429899  2024-10-02    865.0\n",
      "99    id99    1.0   경기  47.0   0  gold  ESFJ  97.381034  2024-12-02   6090.0\n",
      "100  id100   47.0   경기  53.0   0   vip  ESFP  33.308999  2024-02-21  15535.0\n",
      "101   id68   35.0   경기  45.0   2  gold  ISFP  67.886373  2024-07-29   8599.0\n",
      "\n",
      "[102 rows x 10 columns]\n",
      "최소값: 42.0 <class 'float'>\n",
      "<class 'pandas.core.frame.DataFrame'>\n",
      "Index: 102 entries, 0 to 101\n",
      "Data columns (total 10 columns):\n",
      " #   Column      Non-Null Count  Dtype  \n",
      "---  ------      --------------  -----  \n",
      " 0   id          102 non-null    object \n",
      " 1   age         102 non-null    float64\n",
      " 2   city        102 non-null    object \n",
      " 3   f1          71 non-null     float64\n",
      " 4   f2          102 non-null    int64  \n",
      " 5   f3          74 non-null     object \n",
      " 6   f4          102 non-null    object \n",
      " 7   f5          102 non-null    float64\n",
      " 8   subscribed  102 non-null    object \n",
      " 9   views       102 non-null    float64\n",
      "dtypes: float64(4), int64(1), object(5)\n",
      "memory usage: 8.8+ KB\n",
      "중앙값: 5924 <class 'int'>\n"
     ]
    }
   ],
   "source": [
    "# 작업형 유형1\n",
    "import pandas as pd\n",
    "df = pd.read_csv(\"./data/type1_data1.csv\")\n",
    "\n",
    "# df.info()\n",
    "\n",
    "#01: f5가 0이 아닌 데이터 출력\n",
    "cond = df['f5'] != 0\n",
    "df = df[cond]\n",
    "print(df)\n",
    "\n",
    "#02 위 데이터에 views 컬럼 결측치 보정(최소값)\n",
    "views_min = df['views'].min()\n",
    "print('최소값:', views_min, type(views_min))\n",
    "\n",
    "df['views'] = df['views'].fillna(views_min)\n",
    "df.info()\n",
    "\n",
    "# 'views' 컬럼의 중앙값\n",
    "views_median = int(df['views'].median())\n",
    "print('중앙값:', views_median, type(views_median))\n",
    "\n",
    "# df.head()"
   ]
  },
  {
   "cell_type": "code",
   "execution_count": 111,
   "id": "5709c61f-2b4d-4b22-9a3e-900f461aa416",
   "metadata": {},
   "outputs": [
    {
     "name": "stdout",
     "output_type": "stream",
     "text": [
      "최빈값: 2025-02-17 <class 'str'>\n",
      "17 <class 'int'>\n"
     ]
    }
   ],
   "source": [
    "import pandas as pd\n",
    "\n",
    "df = pd.read_csv(\"./data/type1_data1.csv\")\n",
    "\n",
    "#02-1. subscribed 컬럼에서 최빈값\n",
    "subscribed_mode_val = df['subscribed'].mode()\n",
    "print('최빈값:', subscribed_mode_val[0], type(subscribed_mode_val[0]))\n",
    "\n",
    "day = int(subscribed_mode_val[0].split('-')[2])\n",
    "print(day, type(day))"
   ]
  },
  {
   "cell_type": "code",
   "execution_count": 123,
   "id": "4f4dd87e-0607-4fef-84ff-49ad9c583856",
   "metadata": {},
   "outputs": [
    {
     "data": {
      "text/plain": [
       "'2025-02-17'"
      ]
     },
     "execution_count": 123,
     "metadata": {},
     "output_type": "execute_result"
    }
   ],
   "source": [
    "# 다른 방법\n",
    "import pandas as pd\n",
    "df = pd.read_csv(\"./data/type1_data1.csv\")\n",
    "df = df['subscribed'].value_counts()\n",
    "df.index[0]"
   ]
  },
  {
   "cell_type": "code",
   "execution_count": 233,
   "id": "f389689e-f6e1-47f7-b16e-809874cbcb05",
   "metadata": {},
   "outputs": [
    {
     "name": "stdout",
     "output_type": "stream",
     "text": [
      "id             0\n",
      "age            0\n",
      "city           0\n",
      "f1            31\n",
      "f2             0\n",
      "f3            29\n",
      "f4             0\n",
      "f5             0\n",
      "subscribed     0\n",
      "views          4\n",
      "dtype: int64\n",
      "작업후\n",
      "id            0\n",
      "age           0\n",
      "city          0\n",
      "f1            0\n",
      "f2            0\n",
      "f3            0\n",
      "f4            0\n",
      "f5            0\n",
      "subscribed    0\n",
      "views         0\n",
      "dtype: int64\n",
      "최대값: 423.7826086956522 <class 'float'>\n",
      "22\n"
     ]
    }
   ],
   "source": [
    "import pandas as pd\n",
    "\n",
    "df = pd.read_csv(\"./data/type1_data1.csv\")\n",
    "\n",
    "#결측치 확인\n",
    "print(df.isnull().sum())\n",
    "\n",
    "#03-1.결측치 제거\n",
    "df = df.dropna(subset=['f1','f3','views'])\n",
    "print('작업후', df.isnull().sum(), sep='\\n')\n",
    "\n",
    "#03-2. views컬럼을 f1 컬럼으로 나눈 값을 새로운 컬럼으로 추가\n",
    "df['new_f1'] = df['views']/df['f1']\n",
    "\n",
    "#03-3. 새 컬럼 값 중 가장 큰 값을 가진 행의 age를 정수로 구하시오\n",
    "new_f1_max_val = df['new_f1'].max()\n",
    "print('최대값:', new_f1_max_val, type(new_f1_max_val))\n",
    "\n",
    "tgt = df[df['new_f1'] == new_f1_max_val]\n",
    "print(int(tgt.iloc[0, 1]))\n",
    "\n",
    "# df.head()"
   ]
  },
  {
   "cell_type": "code",
   "execution_count": 305,
   "id": "b22a50aa-5200-47cd-a642-95476d2ca834",
   "metadata": {},
   "outputs": [
    {
     "name": "stdout",
     "output_type": "stream",
     "text": [
      "aaa\n",
      " 5      21550.0\n",
      "56     19589.0\n",
      "83     19139.0\n",
      "32     17421.0\n",
      "100    15535.0\n",
      "10     15535.0\n",
      "104    13543.0\n",
      "114    10346.0\n",
      "9       9992.0\n",
      "113     9877.0\n",
      "Name: views, dtype: float64 <class 'pandas.core.series.Series'> 6820.0\n"
     ]
    }
   ],
   "source": [
    "import pandas as pd\n",
    "\n",
    "df = pd.read_csv(\"./data/type1_data1.csv\")\n",
    "df\n",
    "\n",
    "#04-1. views 컬럼의 결측값을 0으로\n",
    "# print('전', df.isnull().sum())\n",
    "tgt_val = 0\n",
    "df['views'] = df['views'].fillna(tgt_val)\n",
    "# print('후', df.isnull().sum())\n",
    "\n",
    "#04-2. views 상위 10번째 값?\n",
    "aaa = df['views'].sort_values(ascending=False)\n",
    "print('aaa\\n', aaa.head(10), type(aaa), aaa[0])\n",
    "\n",
    "\n",
    "\n",
    "#04-3. views 상위 10개 값을 10번째 값으로 변경\n",
    "# df['views']>=aaa"
   ]
  }
 ],
 "metadata": {
  "kernelspec": {
   "display_name": "Python 3 (ipykernel)",
   "language": "python",
   "name": "python3"
  },
  "language_info": {
   "codemirror_mode": {
    "name": "ipython",
    "version": 3
   },
   "file_extension": ".py",
   "mimetype": "text/x-python",
   "name": "python",
   "nbconvert_exporter": "python",
   "pygments_lexer": "ipython3",
   "version": "3.12.7"
  }
 },
 "nbformat": 4,
 "nbformat_minor": 5
}
